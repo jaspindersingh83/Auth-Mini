{
 "cells": [
  {
   "cell_type": "code",
   "execution_count": 34,
   "metadata": {
    "collapsed": false
   },
   "outputs": [
    {
     "name": "stdout",
     "output_type": "stream",
     "text": [
      "dict_items([('a', 1), ('b', 1), ('c', 3), ('d', {'e': 1, 'f': 1, 'g': 2, 'h': {'i': {'j': {'k': 1}}}})])\n"
     ]
    }
   ],
   "source": [
    "    \n",
    "obj = {\n",
    "  \"a\": 1,\n",
    "  \"b\": 1,\n",
    "  \"c\": 3,\n",
    "  \"d\": {\n",
    "    \"e\": 1,\n",
    "    \"f\": 1,\n",
    "    \"g\": 2,\n",
    "    \"h\": {\n",
    "      \"i\": {\n",
    "        \"j\": {\n",
    "          \"k\": 1,\n",
    "        },\n",
    "      },\n",
    "    },\n",
    "  }}\n",
    "\n",
    "print(obj.items())"
   ]
  },
  {
   "cell_type": "code",
   "execution_count": 157,
   "metadata": {
    "collapsed": false
   },
   "outputs": [],
   "source": [
    "\n",
    "def checkMatchingLeaves(obj):\n",
    "    uniquevalues=[]\n",
    "    for key,value in obj.items():\n",
    "        if type(value) is int:\n",
    "            uniquevalues.append(value)\n",
    "        elif type(value) is not int:\n",
    "            uniquevalues=uniquevalues+checkMatchingLeaves(value)     \n",
    "        \n",
    "    return list(set(uniquevalues)) \n",
    "    "
   ]
  },
  {
   "cell_type": "code",
   "execution_count": 161,
   "metadata": {
    "collapsed": true
   },
   "outputs": [],
   "source": [
    "def limitfunc(cb,n):\n",
    "    count=0\n",
    "    def fu():\n",
    "        global count\n",
    "        if count<n:\n",
    "            cb()\n",
    "            ++count\n",
    "        return count\n",
    "    return fu()"
   ]
  },
  {
   "cell_type": "code",
   "execution_count": null,
   "metadata": {
    "collapsed": true
   },
   "outputs": [],
   "source": []
  }
 ],
 "metadata": {
  "kernelspec": {
   "display_name": "Python 3",
   "language": "python",
   "name": "python3"
  },
  "language_info": {
   "codemirror_mode": {
    "name": "ipython",
    "version": 3
   },
   "file_extension": ".py",
   "mimetype": "text/x-python",
   "name": "python",
   "nbconvert_exporter": "python",
   "pygments_lexer": "ipython3",
   "version": "3.6.0"
  }
 },
 "nbformat": 4,
 "nbformat_minor": 2
}
